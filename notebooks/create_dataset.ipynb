{
 "cells": [
  {
   "cell_type": "code",
   "execution_count": 2,
   "metadata": {},
   "outputs": [
    {
     "name": "stdout",
     "output_type": "stream",
     "text": [
      "   id                          visual                                                                                                                                          caption\n",
      "0   1                     kodiak bear                                               Kodiak Bear (Ursus arctos middendorffi) in Kodiak National Wildlife Refuge, Alaska, United States.\n",
      "1   2  Lamb   Animal Park Muggensturm                                                                                    Resting lamb, (Ovis aries); Animal Park Muggensturm, Germany.\n",
      "2   3           Animal diversity bpng  A representation of the diversity of animals, seeking not to favour the large and familiar, so there is only one vertebrate here, for instance.\n",
      "3   4                Animal diversity                                                                                                                                 Animal Diversity\n",
      "4   5   Animal diversity compositepng                                                                                                 Composite of animal species from different phyla\n"
     ]
    }
   ],
   "source": [
    "import pandas as pd\n",
    "\n",
    "# Chargement des données\n",
    "data_path = '../data/clean/animal_images_cleaned.csv'\n",
    "df = pd.read_csv(data_path)\n",
    "pd.set_option('display.max_columns', None)  # Affiche toutes les colonnes\n",
    "pd.set_option('display.width', 1000)  # Augmente la largeur totale des colonnes affichées\n",
    "pd.set_option('display.max_colwidth', None)  # Affiche le contenu complet des colonnes\n",
    "\n",
    "# Afficher les premières lignes du DataFrame pour vérification\n",
    "print(df.head())\n"
   ]
  },
  {
   "cell_type": "code",
   "execution_count": 3,
   "metadata": {},
   "outputs": [
    {
     "name": "stderr",
     "output_type": "stream",
     "text": [
      "Saving the dataset (1/1 shards): 100%|██████████| 33/33 [00:00<00:00, 8096.16 examples/s] "
     ]
    },
    {
     "name": "stdout",
     "output_type": "stream",
     "text": [
      "Dataset({\n",
      "    features: ['id', 'visual', 'caption'],\n",
      "    num_rows: 33\n",
      "})\n",
      "{'id': [1, 2, 3, 4, 5], 'visual': ['kodiak bear', 'Lamb   Animal Park Muggensturm', 'Animal diversity bpng', 'Animal diversity', 'Animal diversity compositepng'], 'caption': ['Kodiak Bear (Ursus arctos middendorffi) in Kodiak National Wildlife Refuge, Alaska, United States.', 'Resting lamb, (Ovis aries); Animal Park Muggensturm, Germany.', 'A representation of the diversity of animals, seeking not to favour the large and familiar, so there is only one vertebrate here, for instance.', 'Animal Diversity', 'Composite of animal species from different phyla']}\n"
     ]
    },
    {
     "name": "stderr",
     "output_type": "stream",
     "text": [
      "\n"
     ]
    }
   ],
   "source": [
    "from datasets import Dataset, load_from_disk\n",
    "\n",
    "# Chargement des données dans un format Dataset\n",
    "dataset = Dataset.from_pandas(df)\n",
    "\n",
    "# Sauvegarde du dataset pour une utilisation ultérieure\n",
    "dataset.save_to_disk('../dataset')\n",
    "# Chargement du dataset depuis le disque\n",
    "dataset = load_from_disk('../dataset')\n",
    "\n",
    "# Affichage des premières lignes du dataset chargé\n",
    "print(dataset)\n",
    "print(dataset[:5])\n"
   ]
  },
  {
   "cell_type": "code",
   "execution_count": 4,
   "metadata": {},
   "outputs": [
    {
     "name": "stdout",
     "output_type": "stream",
     "text": [
      "                                                                                                                                           caption                                                                                                                                                                                                                                                                                                                                                                                            annotated_caption\n",
      "0                                               Kodiak Bear (Ursus arctos middendorffi) in Kodiak National Wildlife Refuge, Alaska, United States.                                                                                                                      [(Kodiak, PROPN), (Bear, PROPN), ((, PUNCT), (Ursus, PROPN), (arctos, NOUN), (middendorffi, ADV), (), PUNCT), (in, ADP), (Kodiak, PROPN), (National, PROPN), (Wildlife, PROPN), (Refuge, PROPN), (,, PUNCT), (Alaska, PROPN), (,, PUNCT), (United, PROPN), (States, PROPN), (., PUNCT)]\n",
      "1                                                                                    Resting lamb, (Ovis aries); Animal Park Muggensturm, Germany.                                                                                                                                                                                               [(Resting, VERB), (lamb, PROPN), (,, PUNCT), ((, PUNCT), (Ovis, PROPN), (aries, NOUN), (), PUNCT), (;, PUNCT), (Animal, PROPN), (Park, PROPN), (Muggensturm, PROPN), (,, PUNCT), (Germany, PROPN), (., PUNCT)]\n",
      "2  A representation of the diversity of animals, seeking not to favour the large and familiar, so there is only one vertebrate here, for instance.  [(A, DET), (representation, NOUN), (of, ADP), (the, DET), (diversity, NOUN), (of, ADP), (animals, NOUN), (,, PUNCT), (seeking, VERB), (not, PART), (to, PART), (favour, VERB), (the, DET), (large, ADJ), (and, CCONJ), (familiar, ADJ), (,, PUNCT), (so, CCONJ), (there, PRON), (is, VERB), (only, ADV), (one, NUM), (vertebrate, NOUN), (here, ADV), (,, PUNCT), (for, ADP), (instance, NOUN), (., PUNCT)]\n",
      "3                                                                                                                                 Animal Diversity                                                                                                                                                                                                                                                                                                                                                                         [(Animal, NOUN), (Diversity, PROPN)]\n",
      "4                                                                                                 Composite of animal species from different phyla                                                                                                                                                                                                                                                                                                 [(Composite, ADJ), (of, ADP), (animal, NOUN), (species, NOUN), (from, ADP), (different, ADJ), (phyla, NOUN)]\n"
     ]
    }
   ],
   "source": [
    "import spacy\n",
    "\n",
    "# Chargement du modèle SpaCy\n",
    "nlp = spacy.load('en_core_web_sm')  \n",
    "\n",
    "# Fonction pour annoter le texte\n",
    "def annotate_text(text):\n",
    "    doc = nlp(text)\n",
    "    annotated_text = [(token.text, token.pos_) for token in doc]\n",
    "    return annotated_text\n",
    "\n",
    "# Appliquer l'annotation à une colonne du DataFrame, la colonne caption étant la plus importante et la plus riche\n",
    "df['annotated_caption'] = df['caption'].apply(annotate_text)\n",
    "\n",
    "# Afficher les résultats\n",
    "print(df[['caption', 'annotated_caption']].head())\n"
   ]
  },
  {
   "cell_type": "code",
   "execution_count": 5,
   "metadata": {},
   "outputs": [],
   "source": [
    "# Sauvegarder les résultats annotés dans un nouveau CSV si nécessaire\n",
    "\n",
    "df_annot=df[['caption', 'annotated_caption']]\n",
    "df_annot.to_csv('../data/annotations/annotated_animal_images.csv', index=False)"
   ]
  }
 ],
 "metadata": {
  "kernelspec": {
   "display_name": "Python 3",
   "language": "python",
   "name": "python3"
  },
  "language_info": {
   "codemirror_mode": {
    "name": "ipython",
    "version": 3
   },
   "file_extension": ".py",
   "mimetype": "text/x-python",
   "name": "python",
   "nbconvert_exporter": "python",
   "pygments_lexer": "ipython3",
   "version": "3.11.4"
  }
 },
 "nbformat": 4,
 "nbformat_minor": 2
}
